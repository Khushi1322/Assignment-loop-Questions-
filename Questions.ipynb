{
 "cells": [
  {
   "cell_type": "markdown",
   "id": "174d9c42-dd3f-4463-a43b-f3592ea3c892",
   "metadata": {},
   "source": [
    "Q1:Write a program to accept the percentage from the user and display the grade according to the following criteria.\n"
   ]
  },
  {
   "cell_type": "code",
   "execution_count": 2,
   "id": "ae8aa071-e6e7-422e-8d8c-f325fc9c0939",
   "metadata": {},
   "outputs": [
    {
     "name": "stdin",
     "output_type": "stream",
     "text": [
      "enter the marks 70\n"
     ]
    },
    {
     "name": "stdout",
     "output_type": "stream",
     "text": [
      "user got grade C\n"
     ]
    }
   ],
   "source": [
    "user_marks=int(input('enter the marks'))\n",
    "if user_marks >90:\n",
    "    print( 'user got grade A')\n",
    "elif user_marks>80 and user_marks<=90:\n",
    "    print('user got grade B')\n",
    "elif user_marks>=60 and user_marks<=80:\n",
    "    print('user got grade C')\n",
    "else:\n",
    "    print('user got grade D')"
   ]
  },
  {
   "cell_type": "markdown",
   "id": "a009d6f6-3a39-4494-996d-c05464226302",
   "metadata": {},
   "source": [
    "Q2:Write a program to accept the cost price of a bike and display the rosd tax to be paid according to the following criteria"
   ]
  },
  {
   "cell_type": "code",
   "execution_count": 6,
   "id": "a6f4a675-3614-4676-b979-e5f503fbc410",
   "metadata": {},
   "outputs": [
    {
     "name": "stdin",
     "output_type": "stream",
     "text": [
      "enter the cost_price of a bike 60000\n"
     ]
    },
    {
     "name": "stdout",
     "output_type": "stream",
     "text": [
      "road tax will be 10%\n"
     ]
    }
   ],
   "source": [
    "cost_price =int(input('enter the cost_price of a bike'))\n",
    "if cost_price >100000:\n",
    "    print('road tax will be 15%')\n",
    "elif cost_price>50000 and cost_price<=100000:   \n",
    "    print('road tax will be 10%')\n",
    "else:\n",
    "    print('road tax will be 5%')"
   ]
  },
  {
   "cell_type": "markdown",
   "id": "eb2594cb-1227-4541-a769-de4729fb90fc",
   "metadata": {},
   "source": [
    "Q3:Accept any city from the user and display monuments of that city."
   ]
  },
  {
   "cell_type": "code",
   "execution_count": 21,
   "id": "46dde84b-08dc-4469-91a1-6531edeb21ac",
   "metadata": {},
   "outputs": [
    {
     "name": "stdin",
     "output_type": "stream",
     "text": [
      "enter the user_city Delhi\n"
     ]
    },
    {
     "name": "stdout",
     "output_type": "stream",
     "text": [
      "Red Fort is located in Delhi\n"
     ]
    }
   ],
   "source": [
    "user_city=input('enter the user_city')\n",
    "if user_city =='Delhi':\n",
    "    print('Red Fort is located in Delhi')\n",
    "elif user_city== 'Agra':\n",
    "    print('Taj Mahal is located in Agra')\n",
    "elif user_city== 'Jaipur':\n",
    "    print('Jal Mahal is located in Jaipur')\n",
    "else:\n",
    "    print('enter the city from the user')"
   ]
  },
  {
   "cell_type": "markdown",
   "id": "236ff76b-0dd8-4ae6-ab72-0e8e35a6419c",
   "metadata": {},
   "source": [
    "Q4: check how many times a given number can be divided by 3 before it is less than or equals to 10.\n",
    "Ans: 2"
   ]
  },
  {
   "cell_type": "markdown",
   "id": "1f2287ec-fbcb-4808-a389-0bfbd546e03c",
   "metadata": {},
   "source": [
    "Q5: why and when to use while loop in python give a detailed description with example.\n",
    "Ans: A while loop evaluates the condition .\n",
    "if the condition evaluates to true,the code inside the while loop is executed.\n",
    "condition is evaluated again.\n",
    "this process continue until the condition is False.\n",
    "when condition evaluates to False, the loop stops."
   ]
  },
  {
   "cell_type": "code",
   "execution_count": 22,
   "id": "13b2ca3b-7f3b-4a59-99d2-32b517080fa8",
   "metadata": {},
   "outputs": [
    {
     "name": "stdin",
     "output_type": "stream",
     "text": [
      "enter the number 5\n"
     ]
    },
    {
     "name": "stdout",
     "output_type": "stream",
     "text": [
      "5 * 1 = 5\n",
      "5 * 2 = 10\n",
      "5 * 3 = 15\n",
      "5 * 4 = 20\n",
      "5 * 5 = 25\n",
      "5 * 6 = 30\n",
      "5 * 7 = 35\n",
      "5 * 8 = 40\n",
      "5 * 9 = 45\n",
      "5 * 10 = 50\n"
     ]
    }
   ],
   "source": [
    "# example\n",
    "n=int(input('enter the number'))\n",
    "i=1\n",
    "result=1\n",
    "while i <=10:\n",
    "    result=n*i\n",
    "    print(n,'*',i,'=',result)\n",
    "    i=i+1"
   ]
  },
  {
   "cell_type": "markdown",
   "id": "5c675c12-7870-4579-95bd-6dcf9707dd5b",
   "metadata": {},
   "source": [
    "Q6: use nested while loop to print 3 different pattern."
   ]
  },
  {
   "cell_type": "code",
   "execution_count": 24,
   "id": "f0e926e9-4587-4f90-99c3-22ce39e50592",
   "metadata": {},
   "outputs": [
    {
     "name": "stdout",
     "output_type": "stream",
     "text": [
      "1  \n",
      "1 2  \n",
      "1 2 3  \n",
      "1 2 3 4  \n",
      "1 2 3 4 5  \n"
     ]
    }
   ],
   "source": [
    "i=1\n",
    "while i<=5:\n",
    "    j=1\n",
    "    while j<=i:\n",
    "        print(j,end=\" \")\n",
    "        j=j+1\n",
    "    print(\" \")\n",
    "    i=i+1"
   ]
  },
  {
   "cell_type": "markdown",
   "id": "59664288-5090-41cb-ae45-2b57fbc53dcb",
   "metadata": {},
   "source": [
    "Q8:reverse a while loop to display numbers from 10 to 1"
   ]
  },
  {
   "cell_type": "code",
   "execution_count": null,
   "id": "765222a1-d18f-482a-92e1-bc9375481434",
   "metadata": {},
   "outputs": [],
   "source": [
    "i="
   ]
  }
 ],
 "metadata": {
  "kernelspec": {
   "display_name": "Python 3 (ipykernel)",
   "language": "python",
   "name": "python3"
  },
  "language_info": {
   "codemirror_mode": {
    "name": "ipython",
    "version": 3
   },
   "file_extension": ".py",
   "mimetype": "text/x-python",
   "name": "python",
   "nbconvert_exporter": "python",
   "pygments_lexer": "ipython3",
   "version": "3.10.8"
  }
 },
 "nbformat": 4,
 "nbformat_minor": 5
}
